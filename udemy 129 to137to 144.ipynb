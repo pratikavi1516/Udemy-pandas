{
 "cells": [
  {
   "cell_type": "code",
   "execution_count": 1,
   "metadata": {},
   "outputs": [],
   "source": [
    "import pandas as pd\n",
    "import numpy as np\n",
    "import datetime as dt"
   ]
  },
  {
   "cell_type": "code",
   "execution_count": 2,
   "metadata": {},
   "outputs": [],
   "source": [
    "someday = dt.date(2010,1,20)"
   ]
  },
  {
   "cell_type": "code",
   "execution_count": 3,
   "metadata": {},
   "outputs": [
    {
     "data": {
      "text/plain": [
       "2010"
      ]
     },
     "execution_count": 3,
     "metadata": {},
     "output_type": "execute_result"
    }
   ],
   "source": [
    "someday.year"
   ]
  },
  {
   "cell_type": "code",
   "execution_count": 4,
   "metadata": {},
   "outputs": [
    {
     "data": {
      "text/plain": [
       "1"
      ]
     },
     "execution_count": 4,
     "metadata": {},
     "output_type": "execute_result"
    }
   ],
   "source": [
    "someday.month"
   ]
  },
  {
   "cell_type": "code",
   "execution_count": 5,
   "metadata": {},
   "outputs": [
    {
     "data": {
      "text/plain": [
       "20"
      ]
     },
     "execution_count": 5,
     "metadata": {},
     "output_type": "execute_result"
    }
   ],
   "source": [
    "someday.day"
   ]
  },
  {
   "cell_type": "code",
   "execution_count": 6,
   "metadata": {},
   "outputs": [
    {
     "data": {
      "text/plain": [
       "datetime.datetime(2010, 1, 20, 0, 0)"
      ]
     },
     "execution_count": 6,
     "metadata": {},
     "output_type": "execute_result"
    }
   ],
   "source": [
    "dt.datetime(2010,1,20)"
   ]
  },
  {
   "cell_type": "code",
   "execution_count": 7,
   "metadata": {},
   "outputs": [
    {
     "data": {
      "text/plain": [
       "datetime.datetime(2010, 1, 20, 8, 13, 57)"
      ]
     },
     "execution_count": 7,
     "metadata": {},
     "output_type": "execute_result"
    }
   ],
   "source": [
    "dt.datetime(2010,1,20, 8,13,57)"
   ]
  },
  {
   "cell_type": "code",
   "execution_count": 8,
   "metadata": {},
   "outputs": [
    {
     "data": {
      "text/plain": [
       "'2010-01-20 08:13:57'"
      ]
     },
     "execution_count": 8,
     "metadata": {},
     "output_type": "execute_result"
    }
   ],
   "source": [
    "str(dt.datetime(2010,1,20, 8,13,57))"
   ]
  },
  {
   "cell_type": "code",
   "execution_count": 9,
   "metadata": {},
   "outputs": [],
   "source": [
    "#Timestamp object gives standard format of date and time"
   ]
  },
  {
   "cell_type": "code",
   "execution_count": 10,
   "metadata": {},
   "outputs": [
    {
     "data": {
      "text/plain": [
       "Timestamp('2015-03-25 00:00:00')"
      ]
     },
     "execution_count": 10,
     "metadata": {},
     "output_type": "execute_result"
    }
   ],
   "source": [
    "pd.Timestamp(\"2015-03-25\")"
   ]
  },
  {
   "cell_type": "code",
   "execution_count": 15,
   "metadata": {},
   "outputs": [],
   "source": [
    "dates = [\"2015-03-25\", \"2015-03-26\", \"2015-03-27\"]\n",
    "dtIndex = pd.DatetimeIndex(dates)"
   ]
  },
  {
   "cell_type": "code",
   "execution_count": 16,
   "metadata": {},
   "outputs": [
    {
     "data": {
      "text/plain": [
       "2015-03-25    100\n",
       "2015-03-26    200\n",
       "2015-03-27    300\n",
       "dtype: int64"
      ]
     },
     "execution_count": 16,
     "metadata": {},
     "output_type": "execute_result"
    }
   ],
   "source": [
    "values = [100, 200, 300]\n",
    "pd.Series(data = values, index = dtIndex)"
   ]
  },
  {
   "cell_type": "code",
   "execution_count": 50,
   "metadata": {},
   "outputs": [],
   "source": [
    "#pd.to_datetime(dates, errors = coerce)"
   ]
  },
  {
   "cell_type": "code",
   "execution_count": 21,
   "metadata": {},
   "outputs": [
    {
     "data": {
      "text/plain": [
       "DatetimeIndex(['2015-12-31', '2016-12-31'], dtype='datetime64[ns]', freq='A-DEC')"
      ]
     },
     "execution_count": 21,
     "metadata": {},
     "output_type": "execute_result"
    }
   ],
   "source": [
    "pd.date_range( start = \"2015-03-25\", end = \"2017-03-25\", freq = \"A\")   #by year end"
   ]
  },
  {
   "cell_type": "code",
   "execution_count": 22,
   "metadata": {},
   "outputs": [
    {
     "data": {
      "text/plain": [
       "DatetimeIndex(['2015-03-25 00:00:00', '2015-03-25 01:00:00',\n",
       "               '2015-03-25 02:00:00', '2015-03-25 03:00:00',\n",
       "               '2015-03-25 04:00:00', '2015-03-25 05:00:00',\n",
       "               '2015-03-25 06:00:00', '2015-03-25 07:00:00',\n",
       "               '2015-03-25 08:00:00', '2015-03-25 09:00:00',\n",
       "               ...\n",
       "               '2017-03-24 15:00:00', '2017-03-24 16:00:00',\n",
       "               '2017-03-24 17:00:00', '2017-03-24 18:00:00',\n",
       "               '2017-03-24 19:00:00', '2017-03-24 20:00:00',\n",
       "               '2017-03-24 21:00:00', '2017-03-24 22:00:00',\n",
       "               '2017-03-24 23:00:00', '2017-03-25 00:00:00'],\n",
       "              dtype='datetime64[ns]', length=17545, freq='H')"
      ]
     },
     "execution_count": 22,
     "metadata": {},
     "output_type": "execute_result"
    }
   ],
   "source": [
    "pd.date_range( start = \"2015-03-25\", end = \"2017-03-25\", freq = \"H\")   #by HOUR"
   ]
  },
  {
   "cell_type": "code",
   "execution_count": 23,
   "metadata": {},
   "outputs": [
    {
     "data": {
      "text/plain": [
       "DatetimeIndex(['2015-03-25', '2015-03-26', '2015-03-27', '2015-03-28',\n",
       "               '2015-03-29', '2015-03-30', '2015-03-31', '2015-04-01',\n",
       "               '2015-04-02', '2015-04-03',\n",
       "               ...\n",
       "               '2017-03-16', '2017-03-17', '2017-03-18', '2017-03-19',\n",
       "               '2017-03-20', '2017-03-21', '2017-03-22', '2017-03-23',\n",
       "               '2017-03-24', '2017-03-25'],\n",
       "              dtype='datetime64[ns]', length=732, freq='D')"
      ]
     },
     "execution_count": 23,
     "metadata": {},
     "output_type": "execute_result"
    }
   ],
   "source": [
    "pd.date_range( start = \"2015-03-25\", end = \"2017-03-25\", freq = \"D\")   #by Day"
   ]
  },
  {
   "cell_type": "code",
   "execution_count": 25,
   "metadata": {},
   "outputs": [
    {
     "data": {
      "text/plain": [
       "DatetimeIndex(['2015-03-29', '2015-04-05', '2015-04-12', '2015-04-19',\n",
       "               '2015-04-26', '2015-05-03', '2015-05-10', '2015-05-17',\n",
       "               '2015-05-24', '2015-05-31',\n",
       "               ...\n",
       "               '2017-01-15', '2017-01-22', '2017-01-29', '2017-02-05',\n",
       "               '2017-02-12', '2017-02-19', '2017-02-26', '2017-03-05',\n",
       "               '2017-03-12', '2017-03-19'],\n",
       "              dtype='datetime64[ns]', length=104, freq='W-SUN')"
      ]
     },
     "execution_count": 25,
     "metadata": {},
     "output_type": "execute_result"
    }
   ],
   "source": [
    "pd.date_range( start = \"2015-03-25\", end = \"2017-03-25\", freq = \"w\")   #by week"
   ]
  },
  {
   "cell_type": "code",
   "execution_count": 26,
   "metadata": {},
   "outputs": [
    {
     "data": {
      "text/plain": [
       "DatetimeIndex(['2015-03-29', '2015-04-05', '2015-04-12', '2015-04-19',\n",
       "               '2015-04-26', '2015-05-03', '2015-05-10', '2015-05-17',\n",
       "               '2015-05-24', '2015-05-31',\n",
       "               ...\n",
       "               '2017-01-15', '2017-01-22', '2017-01-29', '2017-02-05',\n",
       "               '2017-02-12', '2017-02-19', '2017-02-26', '2017-03-05',\n",
       "               '2017-03-12', '2017-03-19'],\n",
       "              dtype='datetime64[ns]', length=104, freq='W-SUN')"
      ]
     },
     "execution_count": 26,
     "metadata": {},
     "output_type": "execute_result"
    }
   ],
   "source": [
    "pd.date_range( start = \"2015-03-25\", end = \"2017-03-25\", freq = \"W-SUN\")   #by week"
   ]
  },
  {
   "cell_type": "code",
   "execution_count": 28,
   "metadata": {
    "collapsed": true
   },
   "outputs": [
    {
     "data": {
      "text/plain": [
       "DatetimeIndex(['2015-03-25 00:00:00', '2015-03-25 07:00:00',\n",
       "               '2015-03-25 14:00:00', '2015-03-25 21:00:00',\n",
       "               '2015-03-26 04:00:00', '2015-03-26 11:00:00',\n",
       "               '2015-03-26 18:00:00', '2015-03-27 01:00:00',\n",
       "               '2015-03-27 08:00:00', '2015-03-27 15:00:00',\n",
       "               '2015-03-27 22:00:00', '2015-03-28 05:00:00',\n",
       "               '2015-03-28 12:00:00', '2015-03-28 19:00:00',\n",
       "               '2015-03-29 02:00:00', '2015-03-29 09:00:00',\n",
       "               '2015-03-29 16:00:00', '2015-03-29 23:00:00',\n",
       "               '2015-03-30 06:00:00', '2015-03-30 13:00:00',\n",
       "               '2015-03-30 20:00:00', '2015-03-31 03:00:00',\n",
       "               '2015-03-31 10:00:00', '2015-03-31 17:00:00',\n",
       "               '2015-04-01 00:00:00', '2015-04-01 07:00:00',\n",
       "               '2015-04-01 14:00:00', '2015-04-01 21:00:00',\n",
       "               '2015-04-02 04:00:00', '2015-04-02 11:00:00',\n",
       "               '2015-04-02 18:00:00', '2015-04-03 01:00:00',\n",
       "               '2015-04-03 08:00:00', '2015-04-03 15:00:00',\n",
       "               '2015-04-03 22:00:00', '2015-04-04 05:00:00',\n",
       "               '2015-04-04 12:00:00', '2015-04-04 19:00:00',\n",
       "               '2015-04-05 02:00:00', '2015-04-05 09:00:00',\n",
       "               '2015-04-05 16:00:00', '2015-04-05 23:00:00',\n",
       "               '2015-04-06 06:00:00', '2015-04-06 13:00:00',\n",
       "               '2015-04-06 20:00:00', '2015-04-07 03:00:00',\n",
       "               '2015-04-07 10:00:00', '2015-04-07 17:00:00',\n",
       "               '2015-04-08 00:00:00', '2015-04-08 07:00:00',\n",
       "               '2015-04-08 14:00:00', '2015-04-08 21:00:00',\n",
       "               '2015-04-09 04:00:00', '2015-04-09 11:00:00',\n",
       "               '2015-04-09 18:00:00', '2015-04-10 01:00:00',\n",
       "               '2015-04-10 08:00:00', '2015-04-10 15:00:00',\n",
       "               '2015-04-10 22:00:00', '2015-04-11 05:00:00',\n",
       "               '2015-04-11 12:00:00', '2015-04-11 19:00:00',\n",
       "               '2015-04-12 02:00:00', '2015-04-12 09:00:00',\n",
       "               '2015-04-12 16:00:00', '2015-04-12 23:00:00',\n",
       "               '2015-04-13 06:00:00', '2015-04-13 13:00:00',\n",
       "               '2015-04-13 20:00:00', '2015-04-14 03:00:00',\n",
       "               '2015-04-14 10:00:00', '2015-04-14 17:00:00',\n",
       "               '2015-04-15 00:00:00', '2015-04-15 07:00:00',\n",
       "               '2015-04-15 14:00:00', '2015-04-15 21:00:00',\n",
       "               '2015-04-16 04:00:00', '2015-04-16 11:00:00',\n",
       "               '2015-04-16 18:00:00', '2015-04-17 01:00:00',\n",
       "               '2015-04-17 08:00:00', '2015-04-17 15:00:00',\n",
       "               '2015-04-17 22:00:00', '2015-04-18 05:00:00',\n",
       "               '2015-04-18 12:00:00', '2015-04-18 19:00:00',\n",
       "               '2015-04-19 02:00:00', '2015-04-19 09:00:00',\n",
       "               '2015-04-19 16:00:00', '2015-04-19 23:00:00',\n",
       "               '2015-04-20 06:00:00', '2015-04-20 13:00:00',\n",
       "               '2015-04-20 20:00:00', '2015-04-21 03:00:00',\n",
       "               '2015-04-21 10:00:00', '2015-04-21 17:00:00',\n",
       "               '2015-04-22 00:00:00', '2015-04-22 07:00:00',\n",
       "               '2015-04-22 14:00:00', '2015-04-22 21:00:00'],\n",
       "              dtype='datetime64[ns]', freq='7H')"
      ]
     },
     "execution_count": 28,
     "metadata": {},
     "output_type": "execute_result"
    }
   ],
   "source": [
    "pd.date_range( start = \"2015-03-25\", periods = 100, freq = \"7H\")   #by 7HOUR"
   ]
  },
  {
   "cell_type": "code",
   "execution_count": 30,
   "metadata": {
    "collapsed": true
   },
   "outputs": [
    {
     "data": {
      "text/plain": [
       "DatetimeIndex(['2015-03-25', '2015-04-18', '2015-05-12', '2015-06-05',\n",
       "               '2015-06-29', '2015-07-23', '2015-08-16', '2015-09-09',\n",
       "               '2015-10-03', '2015-10-27', '2015-11-20', '2015-12-14',\n",
       "               '2016-01-07', '2016-01-31', '2016-02-24', '2016-03-19',\n",
       "               '2016-04-12', '2016-05-06', '2016-05-30', '2016-06-23',\n",
       "               '2016-07-17', '2016-08-10', '2016-09-03', '2016-09-27',\n",
       "               '2016-10-21', '2016-11-14', '2016-12-08', '2017-01-01',\n",
       "               '2017-01-25', '2017-02-18', '2017-03-14', '2017-04-07',\n",
       "               '2017-05-01', '2017-05-25', '2017-06-18', '2017-07-12',\n",
       "               '2017-08-05', '2017-08-29', '2017-09-22', '2017-10-16',\n",
       "               '2017-11-09', '2017-12-03', '2017-12-27', '2018-01-20',\n",
       "               '2018-02-13', '2018-03-09', '2018-04-02', '2018-04-26',\n",
       "               '2018-05-20', '2018-06-13', '2018-07-07', '2018-07-31',\n",
       "               '2018-08-24', '2018-09-17', '2018-10-11', '2018-11-04',\n",
       "               '2018-11-28', '2018-12-22', '2019-01-15', '2019-02-08',\n",
       "               '2019-03-04', '2019-03-28', '2019-04-21', '2019-05-15',\n",
       "               '2019-06-08', '2019-07-02', '2019-07-26', '2019-08-19',\n",
       "               '2019-09-12', '2019-10-06', '2019-10-30', '2019-11-23',\n",
       "               '2019-12-17', '2020-01-10', '2020-02-03', '2020-02-27',\n",
       "               '2020-03-22', '2020-04-15', '2020-05-09', '2020-06-02',\n",
       "               '2020-06-26', '2020-07-20', '2020-08-13', '2020-09-06',\n",
       "               '2020-09-30', '2020-10-24', '2020-11-17', '2020-12-11',\n",
       "               '2021-01-04', '2021-01-28', '2021-02-21', '2021-03-17',\n",
       "               '2021-04-10', '2021-05-04', '2021-05-28', '2021-06-21',\n",
       "               '2021-07-15', '2021-08-08', '2021-09-01', '2021-09-25'],\n",
       "              dtype='datetime64[ns]', freq='24D')"
      ]
     },
     "execution_count": 30,
     "metadata": {},
     "output_type": "execute_result"
    }
   ],
   "source": [
    "bunch_of_dates = pd.date_range( start = \"2015-03-25\", periods = 100, freq = \"24D\")   #by 7HOUR\n",
    "bunch_of_dates"
   ]
  },
  {
   "cell_type": "code",
   "execution_count": 32,
   "metadata": {
    "scrolled": true
   },
   "outputs": [
    {
     "data": {
      "text/plain": [
       "0   2015-03-25\n",
       "1   2015-04-18\n",
       "2   2015-05-12\n",
       "3   2015-06-05\n",
       "4   2015-06-29\n",
       "dtype: datetime64[ns]"
      ]
     },
     "execution_count": 32,
     "metadata": {},
     "output_type": "execute_result"
    }
   ],
   "source": [
    "s= pd.Series(bunch_of_dates)\n",
    "s.head()"
   ]
  },
  {
   "cell_type": "code",
   "execution_count": 33,
   "metadata": {
    "collapsed": true
   },
   "outputs": [
    {
     "data": {
      "text/plain": [
       "0     25\n",
       "1     18\n",
       "2     12\n",
       "3      5\n",
       "4     29\n",
       "5     23\n",
       "6     16\n",
       "7      9\n",
       "8      3\n",
       "9     27\n",
       "10    20\n",
       "11    14\n",
       "12     7\n",
       "13    31\n",
       "14    24\n",
       "15    19\n",
       "16    12\n",
       "17     6\n",
       "18    30\n",
       "19    23\n",
       "20    17\n",
       "21    10\n",
       "22     3\n",
       "23    27\n",
       "24    21\n",
       "25    14\n",
       "26     8\n",
       "27     1\n",
       "28    25\n",
       "29    18\n",
       "      ..\n",
       "70    30\n",
       "71    23\n",
       "72    17\n",
       "73    10\n",
       "74     3\n",
       "75    27\n",
       "76    22\n",
       "77    15\n",
       "78     9\n",
       "79     2\n",
       "80    26\n",
       "81    20\n",
       "82    13\n",
       "83     6\n",
       "84    30\n",
       "85    24\n",
       "86    17\n",
       "87    11\n",
       "88     4\n",
       "89    28\n",
       "90    21\n",
       "91    17\n",
       "92    10\n",
       "93     4\n",
       "94    28\n",
       "95    21\n",
       "96    15\n",
       "97     8\n",
       "98     1\n",
       "99    25\n",
       "Length: 100, dtype: int64"
      ]
     },
     "execution_count": 33,
     "metadata": {},
     "output_type": "execute_result"
    }
   ],
   "source": [
    "s.dt.day"
   ]
  },
  {
   "cell_type": "code",
   "execution_count": 34,
   "metadata": {
    "collapsed": true
   },
   "outputs": [
    {
     "data": {
      "text/plain": [
       "0      3\n",
       "1      4\n",
       "2      5\n",
       "3      6\n",
       "4      6\n",
       "5      7\n",
       "6      8\n",
       "7      9\n",
       "8     10\n",
       "9     10\n",
       "10    11\n",
       "11    12\n",
       "12     1\n",
       "13     1\n",
       "14     2\n",
       "15     3\n",
       "16     4\n",
       "17     5\n",
       "18     5\n",
       "19     6\n",
       "20     7\n",
       "21     8\n",
       "22     9\n",
       "23     9\n",
       "24    10\n",
       "25    11\n",
       "26    12\n",
       "27     1\n",
       "28     1\n",
       "29     2\n",
       "      ..\n",
       "70    10\n",
       "71    11\n",
       "72    12\n",
       "73     1\n",
       "74     2\n",
       "75     2\n",
       "76     3\n",
       "77     4\n",
       "78     5\n",
       "79     6\n",
       "80     6\n",
       "81     7\n",
       "82     8\n",
       "83     9\n",
       "84     9\n",
       "85    10\n",
       "86    11\n",
       "87    12\n",
       "88     1\n",
       "89     1\n",
       "90     2\n",
       "91     3\n",
       "92     4\n",
       "93     5\n",
       "94     5\n",
       "95     6\n",
       "96     7\n",
       "97     8\n",
       "98     9\n",
       "99     9\n",
       "Length: 100, dtype: int64"
      ]
     },
     "execution_count": 34,
     "metadata": {},
     "output_type": "execute_result"
    }
   ],
   "source": [
    "s.dt.month"
   ]
  },
  {
   "cell_type": "code",
   "execution_count": 35,
   "metadata": {
    "collapsed": true
   },
   "outputs": [
    {
     "data": {
      "text/plain": [
       "0     Wednesday\n",
       "1      Saturday\n",
       "2       Tuesday\n",
       "3        Friday\n",
       "4        Monday\n",
       "5      Thursday\n",
       "6        Sunday\n",
       "7     Wednesday\n",
       "8      Saturday\n",
       "9       Tuesday\n",
       "10       Friday\n",
       "11       Monday\n",
       "12     Thursday\n",
       "13       Sunday\n",
       "14    Wednesday\n",
       "15     Saturday\n",
       "16      Tuesday\n",
       "17       Friday\n",
       "18       Monday\n",
       "19     Thursday\n",
       "20       Sunday\n",
       "21    Wednesday\n",
       "22     Saturday\n",
       "23      Tuesday\n",
       "24       Friday\n",
       "25       Monday\n",
       "26     Thursday\n",
       "27       Sunday\n",
       "28    Wednesday\n",
       "29     Saturday\n",
       "        ...    \n",
       "70    Wednesday\n",
       "71     Saturday\n",
       "72      Tuesday\n",
       "73       Friday\n",
       "74       Monday\n",
       "75     Thursday\n",
       "76       Sunday\n",
       "77    Wednesday\n",
       "78     Saturday\n",
       "79      Tuesday\n",
       "80       Friday\n",
       "81       Monday\n",
       "82     Thursday\n",
       "83       Sunday\n",
       "84    Wednesday\n",
       "85     Saturday\n",
       "86      Tuesday\n",
       "87       Friday\n",
       "88       Monday\n",
       "89     Thursday\n",
       "90       Sunday\n",
       "91    Wednesday\n",
       "92     Saturday\n",
       "93      Tuesday\n",
       "94       Friday\n",
       "95       Monday\n",
       "96     Thursday\n",
       "97       Sunday\n",
       "98    Wednesday\n",
       "99     Saturday\n",
       "Length: 100, dtype: object"
      ]
     },
     "execution_count": 35,
     "metadata": {},
     "output_type": "execute_result"
    }
   ],
   "source": [
    "s.dt.weekday_name"
   ]
  },
  {
   "cell_type": "code",
   "execution_count": 36,
   "metadata": {},
   "outputs": [
    {
     "data": {
      "text/plain": [
       "13   2016-01-31\n",
       "51   2018-07-31\n",
       "84   2020-09-30\n",
       "dtype: datetime64[ns]"
      ]
     },
     "execution_count": 36,
     "metadata": {},
     "output_type": "execute_result"
    }
   ],
   "source": [
    "s.dt.is_quarter_start\n",
    "marks = s.dt.is_month_end\n",
    "s[marks]"
   ]
  },
  {
   "cell_type": "code",
   "execution_count": 38,
   "metadata": {},
   "outputs": [],
   "source": [
    "#vid 138 Install pandas_datereader library"
   ]
  },
  {
   "cell_type": "code",
   "execution_count": 52,
   "metadata": {},
   "outputs": [
    {
     "ename": "ModuleNotFoundError",
     "evalue": "No module named 'pandas_DataReader'",
     "output_type": "error",
     "traceback": [
      "\u001b[1;31m---------------------------------------------------------------------------\u001b[0m",
      "\u001b[1;31mModuleNotFoundError\u001b[0m                       Traceback (most recent call last)",
      "\u001b[1;32m<ipython-input-52-a1ac7d7920b0>\u001b[0m in \u001b[0;36m<module>\u001b[1;34m\u001b[0m\n\u001b[0;32m      2\u001b[0m \u001b[1;31m# import numpy as np\u001b[0m\u001b[1;33m\u001b[0m\u001b[1;33m\u001b[0m\u001b[1;33m\u001b[0m\u001b[0m\n\u001b[0;32m      3\u001b[0m \u001b[1;31m# import datetime as dt\u001b[0m\u001b[1;33m\u001b[0m\u001b[1;33m\u001b[0m\u001b[1;33m\u001b[0m\u001b[0m\n\u001b[1;32m----> 4\u001b[1;33m \u001b[1;32mimport\u001b[0m \u001b[0mpandas_DataReader\u001b[0m \u001b[1;32mas\u001b[0m \u001b[0mweb\u001b[0m\u001b[1;33m\u001b[0m\u001b[1;33m\u001b[0m\u001b[0m\n\u001b[0m\u001b[0;32m      5\u001b[0m \u001b[1;31m#from pandas_datareader import data\u001b[0m\u001b[1;33m\u001b[0m\u001b[1;33m\u001b[0m\u001b[1;33m\u001b[0m\u001b[0m\n",
      "\u001b[1;31mModuleNotFoundError\u001b[0m: No module named 'pandas_DataReader'"
     ]
    }
   ],
   "source": [
    "# import pandas as pd\n",
    "# import numpy as np\n",
    "# import datetime as dt\n",
    "import pandas_DataReader as web\n",
    "#from pandas_datareader import data"
   ]
  },
  {
   "cell_type": "code",
   "execution_count": null,
   "metadata": {},
   "outputs": [],
   "source": []
  }
 ],
 "metadata": {
  "kernelspec": {
   "display_name": "Python 3",
   "language": "python",
   "name": "python3"
  },
  "language_info": {
   "codemirror_mode": {
    "name": "ipython",
    "version": 3
   },
   "file_extension": ".py",
   "mimetype": "text/x-python",
   "name": "python",
   "nbconvert_exporter": "python",
   "pygments_lexer": "ipython3",
   "version": "3.7.3"
  }
 },
 "nbformat": 4,
 "nbformat_minor": 2
}
