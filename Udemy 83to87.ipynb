{
 "cells": [
  {
   "cell_type": "code",
   "execution_count": 1,
   "metadata": {},
   "outputs": [],
   "source": [
    "import pandas as pd\n",
    "import numpy as np"
   ]
  },
  {
   "cell_type": "code",
   "execution_count": 2,
   "metadata": {},
   "outputs": [
    {
     "data": {
      "text/html": [
       "<div>\n",
       "<style scoped>\n",
       "    .dataframe tbody tr th:only-of-type {\n",
       "        vertical-align: middle;\n",
       "    }\n",
       "\n",
       "    .dataframe tbody tr th {\n",
       "        vertical-align: top;\n",
       "    }\n",
       "\n",
       "    .dataframe thead th {\n",
       "        text-align: right;\n",
       "    }\n",
       "</style>\n",
       "<table border=\"1\" class=\"dataframe\">\n",
       "  <thead>\n",
       "    <tr style=\"text-align: right;\">\n",
       "      <th></th>\n",
       "      <th>Year</th>\n",
       "      <th>Years lapse</th>\n",
       "      <th>Bond actor</th>\n",
       "      <th>Bond actor appearance</th>\n",
       "      <th>Villians Dispatched</th>\n",
       "      <th>Others' Dispatched</th>\n",
       "      <th>Total Dispatched</th>\n",
       "      <th>Adjusted box office</th>\n",
       "      <th>Actual box office</th>\n",
       "      <th>Adjusted budget</th>\n",
       "      <th>...</th>\n",
       "      <th>Golden Globe wins</th>\n",
       "      <th>Academy Award nominations</th>\n",
       "      <th>Academy Award wins</th>\n",
       "      <th>Number of Bond drinks</th>\n",
       "      <th>Bond girls</th>\n",
       "      <th>Bond car make</th>\n",
       "      <th>Runtime minutes</th>\n",
       "      <th>Month released</th>\n",
       "      <th>Rating</th>\n",
       "      <th>Bond, James Bond said</th>\n",
       "    </tr>\n",
       "    <tr>\n",
       "      <th>Film</th>\n",
       "      <th></th>\n",
       "      <th></th>\n",
       "      <th></th>\n",
       "      <th></th>\n",
       "      <th></th>\n",
       "      <th></th>\n",
       "      <th></th>\n",
       "      <th></th>\n",
       "      <th></th>\n",
       "      <th></th>\n",
       "      <th></th>\n",
       "      <th></th>\n",
       "      <th></th>\n",
       "      <th></th>\n",
       "      <th></th>\n",
       "      <th></th>\n",
       "      <th></th>\n",
       "      <th></th>\n",
       "      <th></th>\n",
       "      <th></th>\n",
       "      <th></th>\n",
       "    </tr>\n",
       "  </thead>\n",
       "  <tbody>\n",
       "    <tr>\n",
       "      <th>Dr. No</th>\n",
       "      <td>1962</td>\n",
       "      <td>NaN</td>\n",
       "      <td>Sean Connery</td>\n",
       "      <td>1</td>\n",
       "      <td>4</td>\n",
       "      <td>8</td>\n",
       "      <td>12</td>\n",
       "      <td>448.8</td>\n",
       "      <td>59.5</td>\n",
       "      <td>7.0</td>\n",
       "      <td>...</td>\n",
       "      <td>1</td>\n",
       "      <td>0</td>\n",
       "      <td>0</td>\n",
       "      <td>11.5</td>\n",
       "      <td>3</td>\n",
       "      <td>Sunbeam</td>\n",
       "      <td>110</td>\n",
       "      <td>October</td>\n",
       "      <td>PG</td>\n",
       "      <td>1</td>\n",
       "    </tr>\n",
       "  </tbody>\n",
       "</table>\n",
       "<p>1 rows × 25 columns</p>\n",
       "</div>"
      ],
      "text/plain": [
       "        Year  Years lapse    Bond actor  Bond actor appearance  \\\n",
       "Film                                                             \n",
       "Dr. No  1962          NaN  Sean Connery                      1   \n",
       "\n",
       "        Villians Dispatched  Others' Dispatched  Total Dispatched  \\\n",
       "Film                                                                \n",
       "Dr. No                    4                   8                12   \n",
       "\n",
       "        Adjusted box office  Actual box office  Adjusted budget  ...  \\\n",
       "Film                                                             ...   \n",
       "Dr. No                448.8               59.5              7.0  ...   \n",
       "\n",
       "        Golden Globe wins Academy Award nominations Academy Award wins  \\\n",
       "Film                                                                     \n",
       "Dr. No                  1                         0                  0   \n",
       "\n",
       "       Number of Bond drinks  Bond girls  Bond car make  Runtime minutes  \\\n",
       "Film                                                                       \n",
       "Dr. No                  11.5           3        Sunbeam              110   \n",
       "\n",
       "        Month released  Rating  Bond, James Bond said  \n",
       "Film                                                   \n",
       "Dr. No         October      PG                      1  \n",
       "\n",
       "[1 rows x 25 columns]"
      ]
     },
     "execution_count": 2,
     "metadata": {},
     "output_type": "execute_result"
    }
   ],
   "source": [
    "bond = pd.read_csv(\"James_Bond_007_Movie_Data.csv\")\n",
    "bond.set_index('Film', inplace = True)\n",
    "bond.head(1)"
   ]
  },
  {
   "cell_type": "code",
   "execution_count": 5,
   "metadata": {
    "collapsed": true
   },
   "outputs": [
    {
     "data": {
      "text/plain": [
       "Film\n",
       "Dr. No                             448.8  millions!\n",
       "From Russia With Love              543.8  millions!\n",
       "Goldfinger                         820.4  millions!\n",
       "Thunderball                        848.1  millions!\n",
       "You Only Live Twice                514.2  millions!\n",
       "On Her Majesty's Secret Service    291.5  millions!\n",
       "Diamonds Are Forever               442.5  millions!\n",
       "Live and Let Die                   460.3  millions!\n",
       "The Man with the Golden Gun        334.0  millions!\n",
       "The Spy Who Loved Me               533.0  millions!\n",
       "Moonraker                          535.0  millions!\n",
       "For Your Eyes Only                 449.4  millions!\n",
       "Octopussy                          373.8  millions!\n",
       "A View to a Kill                   275.2  millions!\n",
       "The Living Daylights               313.5  millions!\n",
       "Licence to Kill                    250.9  millions!\n",
       "GoldenEye                          518.5  millions!\n",
       "Tomorrow Never Dies                463.2  millions!\n",
       "The World is Not Enough            439.5  millions!\n",
       "Die Another Day                    465.4  millions!\n",
       "Casino Royale                      581.5  millions!\n",
       "Quantum of Solace                  514.2  millions!\n",
       "Skyfall                            879.8  millions!\n",
       "Name: Adjusted box office, dtype: object"
      ]
     },
     "execution_count": 5,
     "metadata": {},
     "output_type": "execute_result"
    }
   ],
   "source": [
    "def convert_to_string_and_add_millions(number):\n",
    "    return str(number) + \"  millions!\"\n",
    "\n",
    "bond[\"Adjusted box office\"].apply(convert_to_string_and_add_millions)"
   ]
  },
  {
   "cell_type": "code",
   "execution_count": 8,
   "metadata": {},
   "outputs": [],
   "source": [
    "columns = [\"Adjusted box office\", \"Actual box office\", \"Adjusted budget\"]\n",
    "for col in columns :\n",
    "    bond[col] = bond[col].apply(convert_to_string_and_add_millions)"
   ]
  },
  {
   "cell_type": "code",
   "execution_count": 17,
   "metadata": {
    "scrolled": true
   },
   "outputs": [
    {
     "data": {
      "text/html": [
       "<div>\n",
       "<style scoped>\n",
       "    .dataframe tbody tr th:only-of-type {\n",
       "        vertical-align: middle;\n",
       "    }\n",
       "\n",
       "    .dataframe tbody tr th {\n",
       "        vertical-align: top;\n",
       "    }\n",
       "\n",
       "    .dataframe thead th {\n",
       "        text-align: right;\n",
       "    }\n",
       "</style>\n",
       "<table border=\"1\" class=\"dataframe\">\n",
       "  <thead>\n",
       "    <tr style=\"text-align: right;\">\n",
       "      <th></th>\n",
       "      <th>Year</th>\n",
       "      <th>Years lapse</th>\n",
       "      <th>Bond actor</th>\n",
       "      <th>Bond actor appearance</th>\n",
       "      <th>Villians Dispatched</th>\n",
       "      <th>Others' Dispatched</th>\n",
       "      <th>Total Dispatched</th>\n",
       "      <th>Adjusted box office</th>\n",
       "      <th>Actual box office</th>\n",
       "      <th>Adjusted budget</th>\n",
       "      <th>...</th>\n",
       "      <th>Golden Globe wins</th>\n",
       "      <th>Academy Award nominations</th>\n",
       "      <th>Academy Award wins</th>\n",
       "      <th>Number of Bond drinks</th>\n",
       "      <th>Bond girls</th>\n",
       "      <th>Bond car make</th>\n",
       "      <th>Runtime minutes</th>\n",
       "      <th>Month released</th>\n",
       "      <th>Rating</th>\n",
       "      <th>Bond, James Bond said</th>\n",
       "    </tr>\n",
       "    <tr>\n",
       "      <th>Film</th>\n",
       "      <th></th>\n",
       "      <th></th>\n",
       "      <th></th>\n",
       "      <th></th>\n",
       "      <th></th>\n",
       "      <th></th>\n",
       "      <th></th>\n",
       "      <th></th>\n",
       "      <th></th>\n",
       "      <th></th>\n",
       "      <th></th>\n",
       "      <th></th>\n",
       "      <th></th>\n",
       "      <th></th>\n",
       "      <th></th>\n",
       "      <th></th>\n",
       "      <th></th>\n",
       "      <th></th>\n",
       "      <th></th>\n",
       "      <th></th>\n",
       "      <th></th>\n",
       "    </tr>\n",
       "  </thead>\n",
       "  <tbody>\n",
       "    <tr>\n",
       "      <th>Dr. No</th>\n",
       "      <td>1962</td>\n",
       "      <td>NaN</td>\n",
       "      <td>Sean Connery</td>\n",
       "      <td>1</td>\n",
       "      <td>4</td>\n",
       "      <td>8</td>\n",
       "      <td>12</td>\n",
       "      <td>448.8  millions!</td>\n",
       "      <td>59.5  millions!</td>\n",
       "      <td>7.0  millions!</td>\n",
       "      <td>...</td>\n",
       "      <td>1</td>\n",
       "      <td>0</td>\n",
       "      <td>0</td>\n",
       "      <td>11.5</td>\n",
       "      <td>3</td>\n",
       "      <td>Sunbeam</td>\n",
       "      <td>110</td>\n",
       "      <td>October</td>\n",
       "      <td>PG</td>\n",
       "      <td>1</td>\n",
       "    </tr>\n",
       "    <tr>\n",
       "      <th>From Russia With Love</th>\n",
       "      <td>1963</td>\n",
       "      <td>1.0</td>\n",
       "      <td>Sean Connery</td>\n",
       "      <td>2</td>\n",
       "      <td>11</td>\n",
       "      <td>16</td>\n",
       "      <td>27</td>\n",
       "      <td>543.8  millions!</td>\n",
       "      <td>78.9  millions!</td>\n",
       "      <td>12.6  millions!</td>\n",
       "      <td>...</td>\n",
       "      <td>0</td>\n",
       "      <td>0</td>\n",
       "      <td>0</td>\n",
       "      <td>16.0</td>\n",
       "      <td>3</td>\n",
       "      <td>Bentley</td>\n",
       "      <td>115</td>\n",
       "      <td>April</td>\n",
       "      <td>PG</td>\n",
       "      <td>0</td>\n",
       "    </tr>\n",
       "    <tr>\n",
       "      <th>Goldfinger</th>\n",
       "      <td>1964</td>\n",
       "      <td>1.0</td>\n",
       "      <td>Sean Connery</td>\n",
       "      <td>3</td>\n",
       "      <td>9</td>\n",
       "      <td>68</td>\n",
       "      <td>77</td>\n",
       "      <td>820.4  millions!</td>\n",
       "      <td>124.9  millions!</td>\n",
       "      <td>18.6  millions!</td>\n",
       "      <td>...</td>\n",
       "      <td>0</td>\n",
       "      <td>1</td>\n",
       "      <td>1</td>\n",
       "      <td>12.0</td>\n",
       "      <td>5</td>\n",
       "      <td>Aston Martin</td>\n",
       "      <td>110</td>\n",
       "      <td>September</td>\n",
       "      <td>PG</td>\n",
       "      <td>1</td>\n",
       "    </tr>\n",
       "    <tr>\n",
       "      <th>Thunderball</th>\n",
       "      <td>1965</td>\n",
       "      <td>1.0</td>\n",
       "      <td>Sean Connery</td>\n",
       "      <td>4</td>\n",
       "      <td>20</td>\n",
       "      <td>90</td>\n",
       "      <td>110</td>\n",
       "      <td>848.1  millions!</td>\n",
       "      <td>141.2  millions!</td>\n",
       "      <td>41.9  millions!</td>\n",
       "      <td>...</td>\n",
       "      <td>0</td>\n",
       "      <td>1</td>\n",
       "      <td>1</td>\n",
       "      <td>14.5</td>\n",
       "      <td>5</td>\n",
       "      <td>Lincoln</td>\n",
       "      <td>130</td>\n",
       "      <td>December</td>\n",
       "      <td>PG</td>\n",
       "      <td>0</td>\n",
       "    </tr>\n",
       "    <tr>\n",
       "      <th>You Only Live Twice</th>\n",
       "      <td>1967</td>\n",
       "      <td>2.0</td>\n",
       "      <td>Sean Connery</td>\n",
       "      <td>5</td>\n",
       "      <td>21</td>\n",
       "      <td>175</td>\n",
       "      <td>196</td>\n",
       "      <td>514.2  millions!</td>\n",
       "      <td>101.0  millions!</td>\n",
       "      <td>59.9  millions!</td>\n",
       "      <td>...</td>\n",
       "      <td>0</td>\n",
       "      <td>0</td>\n",
       "      <td>0</td>\n",
       "      <td>9.5</td>\n",
       "      <td>4</td>\n",
       "      <td>Toyota</td>\n",
       "      <td>117</td>\n",
       "      <td>June</td>\n",
       "      <td>PG</td>\n",
       "      <td>0</td>\n",
       "    </tr>\n",
       "    <tr>\n",
       "      <th>On Her Majesty's Secret Service</th>\n",
       "      <td>1969</td>\n",
       "      <td>2.0</td>\n",
       "      <td>George Lazenby</td>\n",
       "      <td>1</td>\n",
       "      <td>5</td>\n",
       "      <td>37</td>\n",
       "      <td>42</td>\n",
       "      <td>291.5  millions!</td>\n",
       "      <td>64.6  millions!</td>\n",
       "      <td>37.3  millions!</td>\n",
       "      <td>...</td>\n",
       "      <td>0</td>\n",
       "      <td>0</td>\n",
       "      <td>0</td>\n",
       "      <td>9.5</td>\n",
       "      <td>3</td>\n",
       "      <td>Aston Martin</td>\n",
       "      <td>142</td>\n",
       "      <td>December</td>\n",
       "      <td>PG</td>\n",
       "      <td>2</td>\n",
       "    </tr>\n",
       "    <tr>\n",
       "      <th>Diamonds Are Forever</th>\n",
       "      <td>1971</td>\n",
       "      <td>2.0</td>\n",
       "      <td>Sean Connery</td>\n",
       "      <td>6</td>\n",
       "      <td>7</td>\n",
       "      <td>42</td>\n",
       "      <td>49</td>\n",
       "      <td>442.5  millions!</td>\n",
       "      <td>116.0  millions!</td>\n",
       "      <td>34.7  millions!</td>\n",
       "      <td>...</td>\n",
       "      <td>0</td>\n",
       "      <td>1</td>\n",
       "      <td>0</td>\n",
       "      <td>6.0</td>\n",
       "      <td>5</td>\n",
       "      <td>Ford</td>\n",
       "      <td>120</td>\n",
       "      <td>December</td>\n",
       "      <td>PG</td>\n",
       "      <td>1</td>\n",
       "    </tr>\n",
       "    <tr>\n",
       "      <th>Live and Let Die</th>\n",
       "      <td>1973</td>\n",
       "      <td>2.0</td>\n",
       "      <td>Roger Moore</td>\n",
       "      <td>1</td>\n",
       "      <td>8</td>\n",
       "      <td>5</td>\n",
       "      <td>13</td>\n",
       "      <td>460.3  millions!</td>\n",
       "      <td>126.4  millions!</td>\n",
       "      <td>30.8  millions!</td>\n",
       "      <td>...</td>\n",
       "      <td>0</td>\n",
       "      <td>1</td>\n",
       "      <td>0</td>\n",
       "      <td>15.5</td>\n",
       "      <td>3</td>\n",
       "      <td>Chevrolet</td>\n",
       "      <td>121</td>\n",
       "      <td>June</td>\n",
       "      <td>PG</td>\n",
       "      <td>1</td>\n",
       "    </tr>\n",
       "    <tr>\n",
       "      <th>The Man with the Golden Gun</th>\n",
       "      <td>1974</td>\n",
       "      <td>1.0</td>\n",
       "      <td>Roger Moore</td>\n",
       "      <td>2</td>\n",
       "      <td>1</td>\n",
       "      <td>5</td>\n",
       "      <td>6</td>\n",
       "      <td>334.0  millions!</td>\n",
       "      <td>98.5  millions!</td>\n",
       "      <td>27.7  millions!</td>\n",
       "      <td>...</td>\n",
       "      <td>0</td>\n",
       "      <td>0</td>\n",
       "      <td>0</td>\n",
       "      <td>11.5</td>\n",
       "      <td>4</td>\n",
       "      <td>AMC</td>\n",
       "      <td>125</td>\n",
       "      <td>December</td>\n",
       "      <td>PG</td>\n",
       "      <td>2</td>\n",
       "    </tr>\n",
       "    <tr>\n",
       "      <th>The Spy Who Loved Me</th>\n",
       "      <td>1977</td>\n",
       "      <td>3.0</td>\n",
       "      <td>Roger Moore</td>\n",
       "      <td>3</td>\n",
       "      <td>31</td>\n",
       "      <td>116</td>\n",
       "      <td>147</td>\n",
       "      <td>533.0  millions!</td>\n",
       "      <td>185.4  millions!</td>\n",
       "      <td>45.1  millions!</td>\n",
       "      <td>...</td>\n",
       "      <td>0</td>\n",
       "      <td>3</td>\n",
       "      <td>0</td>\n",
       "      <td>7.0</td>\n",
       "      <td>3</td>\n",
       "      <td>Lotus</td>\n",
       "      <td>125</td>\n",
       "      <td>July</td>\n",
       "      <td>PG</td>\n",
       "      <td>1</td>\n",
       "    </tr>\n",
       "  </tbody>\n",
       "</table>\n",
       "<p>10 rows × 25 columns</p>\n",
       "</div>"
      ],
      "text/plain": [
       "                                 Year  Years lapse      Bond actor  \\\n",
       "Film                                                                 \n",
       "Dr. No                           1962          NaN    Sean Connery   \n",
       "From Russia With Love            1963          1.0    Sean Connery   \n",
       "Goldfinger                       1964          1.0    Sean Connery   \n",
       "Thunderball                      1965          1.0    Sean Connery   \n",
       "You Only Live Twice              1967          2.0    Sean Connery   \n",
       "On Her Majesty's Secret Service  1969          2.0  George Lazenby   \n",
       "Diamonds Are Forever             1971          2.0    Sean Connery   \n",
       "Live and Let Die                 1973          2.0     Roger Moore   \n",
       "The Man with the Golden Gun      1974          1.0     Roger Moore   \n",
       "The Spy Who Loved Me             1977          3.0     Roger Moore   \n",
       "\n",
       "                                 Bond actor appearance  Villians Dispatched  \\\n",
       "Film                                                                          \n",
       "Dr. No                                               1                    4   \n",
       "From Russia With Love                                2                   11   \n",
       "Goldfinger                                           3                    9   \n",
       "Thunderball                                          4                   20   \n",
       "You Only Live Twice                                  5                   21   \n",
       "On Her Majesty's Secret Service                      1                    5   \n",
       "Diamonds Are Forever                                 6                    7   \n",
       "Live and Let Die                                     1                    8   \n",
       "The Man with the Golden Gun                          2                    1   \n",
       "The Spy Who Loved Me                                 3                   31   \n",
       "\n",
       "                                 Others' Dispatched  Total Dispatched  \\\n",
       "Film                                                                    \n",
       "Dr. No                                            8                12   \n",
       "From Russia With Love                            16                27   \n",
       "Goldfinger                                       68                77   \n",
       "Thunderball                                      90               110   \n",
       "You Only Live Twice                             175               196   \n",
       "On Her Majesty's Secret Service                  37                42   \n",
       "Diamonds Are Forever                             42                49   \n",
       "Live and Let Die                                  5                13   \n",
       "The Man with the Golden Gun                       5                 6   \n",
       "The Spy Who Loved Me                            116               147   \n",
       "\n",
       "                                Adjusted box office Actual box office  \\\n",
       "Film                                                                    \n",
       "Dr. No                             448.8  millions!   59.5  millions!   \n",
       "From Russia With Love              543.8  millions!   78.9  millions!   \n",
       "Goldfinger                         820.4  millions!  124.9  millions!   \n",
       "Thunderball                        848.1  millions!  141.2  millions!   \n",
       "You Only Live Twice                514.2  millions!  101.0  millions!   \n",
       "On Her Majesty's Secret Service    291.5  millions!   64.6  millions!   \n",
       "Diamonds Are Forever               442.5  millions!  116.0  millions!   \n",
       "Live and Let Die                   460.3  millions!  126.4  millions!   \n",
       "The Man with the Golden Gun        334.0  millions!   98.5  millions!   \n",
       "The Spy Who Loved Me               533.0  millions!  185.4  millions!   \n",
       "\n",
       "                                 Adjusted budget  ...  Golden Globe wins  \\\n",
       "Film                                              ...                      \n",
       "Dr. No                            7.0  millions!  ...                  1   \n",
       "From Russia With Love            12.6  millions!  ...                  0   \n",
       "Goldfinger                       18.6  millions!  ...                  0   \n",
       "Thunderball                      41.9  millions!  ...                  0   \n",
       "You Only Live Twice              59.9  millions!  ...                  0   \n",
       "On Her Majesty's Secret Service  37.3  millions!  ...                  0   \n",
       "Diamonds Are Forever             34.7  millions!  ...                  0   \n",
       "Live and Let Die                 30.8  millions!  ...                  0   \n",
       "The Man with the Golden Gun      27.7  millions!  ...                  0   \n",
       "The Spy Who Loved Me             45.1  millions!  ...                  0   \n",
       "\n",
       "                                Academy Award nominations Academy Award wins  \\\n",
       "Film                                                                           \n",
       "Dr. No                                                  0                  0   \n",
       "From Russia With Love                                   0                  0   \n",
       "Goldfinger                                              1                  1   \n",
       "Thunderball                                             1                  1   \n",
       "You Only Live Twice                                     0                  0   \n",
       "On Her Majesty's Secret Service                         0                  0   \n",
       "Diamonds Are Forever                                    1                  0   \n",
       "Live and Let Die                                        1                  0   \n",
       "The Man with the Golden Gun                             0                  0   \n",
       "The Spy Who Loved Me                                    3                  0   \n",
       "\n",
       "                                Number of Bond drinks  Bond girls  \\\n",
       "Film                                                                \n",
       "Dr. No                                           11.5           3   \n",
       "From Russia With Love                            16.0           3   \n",
       "Goldfinger                                       12.0           5   \n",
       "Thunderball                                      14.5           5   \n",
       "You Only Live Twice                               9.5           4   \n",
       "On Her Majesty's Secret Service                   9.5           3   \n",
       "Diamonds Are Forever                              6.0           5   \n",
       "Live and Let Die                                 15.5           3   \n",
       "The Man with the Golden Gun                      11.5           4   \n",
       "The Spy Who Loved Me                              7.0           3   \n",
       "\n",
       "                                 Bond car make  Runtime minutes  \\\n",
       "Film                                                              \n",
       "Dr. No                                 Sunbeam              110   \n",
       "From Russia With Love                  Bentley              115   \n",
       "Goldfinger                        Aston Martin              110   \n",
       "Thunderball                            Lincoln              130   \n",
       "You Only Live Twice                     Toyota              117   \n",
       "On Her Majesty's Secret Service   Aston Martin              142   \n",
       "Diamonds Are Forever                      Ford              120   \n",
       "Live and Let Die                     Chevrolet              121   \n",
       "The Man with the Golden Gun                AMC              125   \n",
       "The Spy Who Loved Me                     Lotus              125   \n",
       "\n",
       "                                 Month released  Rating  Bond, James Bond said  \n",
       "Film                                                                            \n",
       "Dr. No                                  October      PG                      1  \n",
       "From Russia With Love                     April      PG                      0  \n",
       "Goldfinger                            September      PG                      1  \n",
       "Thunderball                            December      PG                      0  \n",
       "You Only Live Twice                        June      PG                      0  \n",
       "On Her Majesty's Secret Service        December      PG                      2  \n",
       "Diamonds Are Forever                   December      PG                      1  \n",
       "Live and Let Die                           June      PG                      1  \n",
       "The Man with the Golden Gun            December      PG                      2  \n",
       "The Spy Who Loved Me                       July      PG                      1  \n",
       "\n",
       "[10 rows x 25 columns]"
      ]
     },
     "execution_count": 17,
     "metadata": {},
     "output_type": "execute_result"
    }
   ],
   "source": [
    "bond.head(10)"
   ]
  },
  {
   "cell_type": "code",
   "execution_count": 10,
   "metadata": {},
   "outputs": [],
   "source": [
    "# apply with rows"
   ]
  },
  {
   "cell_type": "code",
   "execution_count": 16,
   "metadata": {
    "collapsed": true
   },
   "outputs": [
    {
     "data": {
      "text/plain": [
       "Index(['Year', 'Years lapse', 'Bond actor', 'Bond actor appearance',\n",
       "       'Villians Dispatched', 'Others' Dispatched', 'Total Dispatched',\n",
       "       'Adjusted box office', 'Actual box office', 'Adjusted budget',\n",
       "       'Actual budget', 'Director', 'Rotten Tomatoes critic score',\n",
       "       'Rotten Tomatoes audience score', 'Golden Globe nominations',\n",
       "       'Golden Globe wins', 'Academy Award nominations', 'Academy Award wins',\n",
       "       'Number of Bond drinks', 'Bond girls', 'Bond car make',\n",
       "       'Runtime minutes', 'Month released', 'Rating', 'Bond, James Bond said'],\n",
       "      dtype='object')"
      ]
     },
     "execution_count": 16,
     "metadata": {},
     "output_type": "execute_result"
    }
   ],
   "source": [
    "bond.columns"
   ]
  },
  {
   "cell_type": "code",
   "execution_count": 28,
   "metadata": {
    "collapsed": true
   },
   "outputs": [
    {
     "data": {
      "text/plain": [
       "Film\n",
       "Dr. No                                   The best\n",
       "From Russia With Love                    The best\n",
       "Goldfinger                               The best\n",
       "Thunderball                              The best\n",
       "You Only Live Twice                      The best\n",
       "On Her Majesty's Secret Service    I have no clue\n",
       "Diamonds Are Forever                     The best\n",
       "Live and Let Die                   I have no clue\n",
       "The Man with the Golden Gun        I have no clue\n",
       "The Spy Who Loved Me               I have no clue\n",
       "Moonraker                          I have no clue\n",
       "For Your Eyes Only                 I have no clue\n",
       "Octopussy                          I have no clue\n",
       "A View to a Kill                   I have no clue\n",
       "The Living Daylights               I have no clue\n",
       "Licence to Kill                    I have no clue\n",
       "GoldenEye                          I have no clue\n",
       "Tomorrow Never Dies                I have no clue\n",
       "The World is Not Enough            I have no clue\n",
       "Die Another Day                    I have no clue\n",
       "Casino Royale                      I have no clue\n",
       "Quantum of Solace                  I have no clue\n",
       "Skyfall                            I have no clue\n",
       "dtype: object"
      ]
     },
     "execution_count": 28,
     "metadata": {},
     "output_type": "execute_result"
    }
   ],
   "source": [
    "def good_movie(row):\n",
    "    actor = row[2]\n",
    "    budget = row[10]\n",
    "    \n",
    "    if actor == \"Sean Connery\":\n",
    "        return \"The best\"\n",
    "    elif actor == \"Roger Moore\" and budget > 450:\n",
    "        return \"Enjoyable\"\n",
    "    else:\n",
    "        return \"I have no clue\"\n",
    "bond.apply(good_movie, axis = \"columns\")\n",
    "    "
   ]
  },
  {
   "cell_type": "code",
   "execution_count": 30,
   "metadata": {},
   "outputs": [],
   "source": [
    "directors = bond[\"Director\"]"
   ]
  },
  {
   "cell_type": "code",
   "execution_count": 32,
   "metadata": {},
   "outputs": [
    {
     "name": "stderr",
     "output_type": "stream",
     "text": [
      "C:\\ProgramData\\Anaconda3\\lib\\site-packages\\ipykernel_launcher.py:1: SettingWithCopyWarning: \n",
      "A value is trying to be set on a copy of a slice from a DataFrame\n",
      "\n",
      "See the caveats in the documentation: http://pandas.pydata.org/pandas-docs/stable/indexing.html#indexing-view-versus-copy\n",
      "  \"\"\"Entry point for launching an IPython kernel.\n"
     ]
    }
   ],
   "source": [
    "directors[\"A View to a Kill\"] = \"Mister John Glan\""
   ]
  },
  {
   "cell_type": "code",
   "execution_count": 34,
   "metadata": {
    "collapsed": true
   },
   "outputs": [
    {
     "data": {
      "text/plain": [
       "Film\n",
       "Dr. No                                  Terence Young\n",
       "From Russia With Love                   Terence Young\n",
       "Goldfinger                               Guy Hamilton\n",
       "Thunderball                             Terence Young\n",
       "You Only Live Twice                     Lewis Gilbert\n",
       "On Her Majesty's Secret Service         Peter R. Hunt\n",
       "Diamonds Are Forever                     Guy Hamilton\n",
       "Live and Let Die                         Guy Hamilton\n",
       "The Man with the Golden Gun              Guy Hamilton\n",
       "The Spy Who Loved Me                    Lewis Gilbert\n",
       "Moonraker                               Lewis Gilbert\n",
       "For Your Eyes Only                          John Glen\n",
       "Octopussy                                   John Glen\n",
       "A View to a Kill                     Mister John Glan\n",
       "The Living Daylights                        John Glen\n",
       "Licence to Kill                             John Glen\n",
       "GoldenEye                             Martin Campbell\n",
       "Tomorrow Never Dies                Roger Spottiswoode\n",
       "The World is Not Enough                 Michael Apted\n",
       "Die Another Day                          Lee Tamahori\n",
       "Casino Royale                         Martin Campbell\n",
       "Quantum of Solace                        Marc Forster\n",
       "Skyfall                                    Sam Mendes\n",
       "Name: Director, dtype: object"
      ]
     },
     "execution_count": 34,
     "metadata": {},
     "output_type": "execute_result"
    }
   ],
   "source": [
    "directors"
   ]
  },
  {
   "cell_type": "code",
   "execution_count": 35,
   "metadata": {},
   "outputs": [],
   "source": [
    "director = bond[\"Director\"].copy()"
   ]
  },
  {
   "cell_type": "code",
   "execution_count": 36,
   "metadata": {},
   "outputs": [],
   "source": [
    "director[\"A View to a Kill\"] = \"Mister John Glan\""
   ]
  },
  {
   "cell_type": "code",
   "execution_count": 37,
   "metadata": {
    "collapsed": true
   },
   "outputs": [
    {
     "data": {
      "text/plain": [
       "Film\n",
       "Dr. No                                  Terence Young\n",
       "From Russia With Love                   Terence Young\n",
       "Goldfinger                               Guy Hamilton\n",
       "Thunderball                             Terence Young\n",
       "You Only Live Twice                     Lewis Gilbert\n",
       "On Her Majesty's Secret Service         Peter R. Hunt\n",
       "Diamonds Are Forever                     Guy Hamilton\n",
       "Live and Let Die                         Guy Hamilton\n",
       "The Man with the Golden Gun              Guy Hamilton\n",
       "The Spy Who Loved Me                    Lewis Gilbert\n",
       "Moonraker                               Lewis Gilbert\n",
       "For Your Eyes Only                          John Glen\n",
       "Octopussy                                   John Glen\n",
       "A View to a Kill                     Mister John Glan\n",
       "The Living Daylights                        John Glen\n",
       "Licence to Kill                             John Glen\n",
       "GoldenEye                             Martin Campbell\n",
       "Tomorrow Never Dies                Roger Spottiswoode\n",
       "The World is Not Enough                 Michael Apted\n",
       "Die Another Day                          Lee Tamahori\n",
       "Casino Royale                         Martin Campbell\n",
       "Quantum of Solace                        Marc Forster\n",
       "Skyfall                                    Sam Mendes\n",
       "Name: Director, dtype: object"
      ]
     },
     "execution_count": 37,
     "metadata": {},
     "output_type": "execute_result"
    }
   ],
   "source": [
    "director"
   ]
  },
  {
   "cell_type": "code",
   "execution_count": 38,
   "metadata": {},
   "outputs": [
    {
     "data": {
      "text/plain": [
       "'hello world'"
      ]
     },
     "execution_count": 38,
     "metadata": {},
     "output_type": "execute_result"
    }
   ],
   "source": [
    "\"HELLO WORLD\".lower()"
   ]
  },
  {
   "cell_type": "code",
   "execution_count": 39,
   "metadata": {},
   "outputs": [
    {
     "data": {
      "text/plain": [
       "'HELLO WORLD'"
      ]
     },
     "execution_count": 39,
     "metadata": {},
     "output_type": "execute_result"
    }
   ],
   "source": [
    "\"hello world\".upper()"
   ]
  },
  {
   "cell_type": "code",
   "execution_count": 40,
   "metadata": {},
   "outputs": [
    {
     "data": {
      "text/plain": [
       "'Hello World'"
      ]
     },
     "execution_count": 40,
     "metadata": {},
     "output_type": "execute_result"
    }
   ],
   "source": [
    "\"hello world\".title()"
   ]
  },
  {
   "cell_type": "code",
   "execution_count": 41,
   "metadata": {},
   "outputs": [
    {
     "data": {
      "text/plain": [
       "11"
      ]
     },
     "execution_count": 41,
     "metadata": {},
     "output_type": "execute_result"
    }
   ],
   "source": [
    "len(\"hello world\")"
   ]
  },
  {
   "cell_type": "code",
   "execution_count": 42,
   "metadata": {},
   "outputs": [],
   "source": [
    "# The.str.replace() method"
   ]
  },
  {
   "cell_type": "code",
   "execution_count": 43,
   "metadata": {},
   "outputs": [
    {
     "data": {
      "text/plain": [
       "'he11o wor1d'"
      ]
     },
     "execution_count": 43,
     "metadata": {},
     "output_type": "execute_result"
    }
   ],
   "source": [
    "\"hello world\".replace(\"l\",\"1\")"
   ]
  },
  {
   "cell_type": "code",
   "execution_count": 45,
   "metadata": {},
   "outputs": [
    {
     "data": {
      "text/plain": [
       "'hello world'"
      ]
     },
     "execution_count": 45,
     "metadata": {},
     "output_type": "execute_result"
    }
   ],
   "source": [
    "\"hello world\".rstrip()"
   ]
  },
  {
   "cell_type": "code",
   "execution_count": 46,
   "metadata": {},
   "outputs": [
    {
     "data": {
      "text/plain": [
       "'hello world'"
      ]
     },
     "execution_count": 46,
     "metadata": {},
     "output_type": "execute_result"
    }
   ],
   "source": [
    "\"hello world\".strip()"
   ]
  },
  {
   "cell_type": "code",
   "execution_count": null,
   "metadata": {},
   "outputs": [],
   "source": []
  }
 ],
 "metadata": {
  "kernelspec": {
   "display_name": "Python 3",
   "language": "python",
   "name": "python3"
  },
  "language_info": {
   "codemirror_mode": {
    "name": "ipython",
    "version": 3
   },
   "file_extension": ".py",
   "mimetype": "text/x-python",
   "name": "python",
   "nbconvert_exporter": "python",
   "pygments_lexer": "ipython3",
   "version": "3.7.3"
  }
 },
 "nbformat": 4,
 "nbformat_minor": 2
}
